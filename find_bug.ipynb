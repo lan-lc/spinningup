{
 "cells": [
  {
   "cell_type": "code",
   "execution_count": 1,
   "metadata": {},
   "outputs": [],
   "source": [
    "from ast import mod\n",
    "from telnetlib import DM\n",
    "from turtle import mode\n",
    "from unicodedata import name\n",
    "import gym\n",
    "from copy import deepcopy\n",
    "import os\n",
    "import os.path as osp\n",
    "import torch\n",
    "from scipy import stats\n",
    "from statistics import mean \n",
    "import numpy as np\n",
    "from torch.optim import Adam\n",
    "import itertools\n",
    "import random\n",
    "import torch.nn as nn\n",
    "import argparse"
   ]
  },
  {
   "cell_type": "code",
   "execution_count": 2,
   "metadata": {},
   "outputs": [],
   "source": [
    "def print_2f(*args):\n",
    "    __builtins__.print(*(\"%.2f\" % a if isinstance(a, float) else a\n",
    "                         for a in args))\n",
    "def print_2f_tab(*args):\n",
    "    __builtins__.print(*(\"%.2f\" % a if isinstance(a, float) else a\n",
    "                         for a in args), sep='\\t')\n",
    "\n",
    "def get_action(o, md, deterministic=True):\n",
    "    o = torch.as_tensor(o, dtype=torch.float32)\n",
    "    a = md.act(o)\n",
    "    return a\n",
    "\n",
    "def get_q(o, a, md):\n",
    "    o = torch.as_tensor(o, dtype=torch.float32)\n",
    "    a = torch.as_tensor(a, dtype=torch.float32)\n",
    "    q1 = md.q1(o, a)\n",
    "    q2 = md.q2(o, a)\n",
    "    return torch.min(q1, q2)\n",
    "\n",
    "def run_extra_steps(env, o, ep_len, md, max_ep_len, step_num = 50):\n",
    "    # return 0\n",
    "    # print(env.done)\n",
    "    total_r = 0\n",
    "    for i in range(step_num):\n",
    "        a = get_action(o, md)\n",
    "        o, r, d, _ = env.step(a)\n",
    "        total_r += r\n",
    "        ep_len += 1\n",
    "        if d or (ep_len == max_ep_len):\n",
    "            # print(i, d, r, ep_len, max_ep_len)\n",
    "            return (d, total_r)\n",
    "    return (d, total_r)\n",
    "\n",
    "\n",
    "def save_state(env):\n",
    "    return env.sim.get_state()\n",
    "\n",
    "def restore_state(env, old_state):\n",
    "    env.reset()\n",
    "    env.sim.set_state(old_state)\n",
    "    env.sim.forward()\n",
    "    return env.get_obs()\n",
    "\n",
    "def vmean(v):\n",
    "    return sum(v) / len(v)\n",
    "\n",
    "def test_model(env, model, max_ep_len=None, num_episodes=20, interval = 1):\n",
    "    o, r, d, ep_ret, ep_len, n = env.reset(), 0, False, 0, 0, 0\n",
    "    total_rewards = []\n",
    "    trajs = []\n",
    "    mid_points = {}\n",
    "    while n < num_episodes:\n",
    "        if ep_len % interval == 0:\n",
    "            old_state = save_state(env)\n",
    "            mid_points[ep_len] = old_state\n",
    "        a = get_action(o, model)\n",
    "        o, r, d, _ = env.step(a)\n",
    "        ep_ret += r\n",
    "        ep_len += 1\n",
    "        if d or (ep_len == max_ep_len):\n",
    "            total_rewards.append(ep_ret)\n",
    "            trajs.append(mid_points)\n",
    "            mid_points = {}\n",
    "            o, r, d, ep_ret, ep_len = env.reset(), 0, False, 0, 0\n",
    "            n += 1\n",
    "    return total_rewards, trajs\n",
    "\n",
    "def get_good_trajs(env, model, num, max_ep_len=1000):\n",
    "    total_rewards = []\n",
    "    trajs = []\n",
    "    old_r = []\n",
    "    while len(total_rewards) < num:\n",
    "        r, t = test_model(env, model, max_ep_len, num - len(total_rewards))\n",
    "        old_r = old_r + r\n",
    "        thr = vmean(old_r)\n",
    "        for i in range(len(r)):\n",
    "            if thr <= r[i] and len(t[i])>=500:\n",
    "                total_rewards.append(r[i])\n",
    "                trajs.append(t[i])\n",
    "    return total_rewards, trajs\n",
    "def get_all_models(path, env_name, name):\n",
    "    env = gym.make(env_name)\n",
    "    fpath = osp.join(path, name)\n",
    "    models = []\n",
    "    file_names = os.listdir(fpath)\n",
    "    if len(file_names) == 0:\n",
    "        return []\n",
    "    if 'ppo' in name:\n",
    "        for file_name in file_names:\n",
    "            if '.pt' in file_name:\n",
    "                fname = osp.join(fpath, file_name)\n",
    "                print(fname)\n",
    "                env = gym.make(env_name)\n",
    "                obs_dim = env.observation_space.shape[0]\n",
    "                action_dim = env.action_space.shape[0]\n",
    "                model = PPO_Actor(obs_dim, action_dim, (64, 64), nn.Tanh)\n",
    "                model.load(fname)\n",
    "                models.append(model)\n",
    "    else:\n",
    "        for file_name in file_names:   \n",
    "            fname = osp.join(fpath, file_name ,'pyt_save', 'model.pt')\n",
    "            print(fname)\n",
    "            model = torch.load(fname)\n",
    "            models.append(model)\n",
    "    return models"
   ]
  },
  {
   "cell_type": "code",
   "execution_count": 3,
   "metadata": {},
   "outputs": [
    {
     "name": "stderr",
     "output_type": "stream",
     "text": [
      "/home/lclan/anaconda3/envs/rob_sac/lib/python3.7/site-packages/gym/logger.py:30: UserWarning: \u001b[33mWARN: Box bound precision lowered by casting to float32\u001b[0m\n",
      "  warnings.warn(colorize('%s: %s'%('WARN', msg % args), 'yellow'))\n"
     ]
    },
    {
     "name": "stdout",
     "output_type": "stream",
     "text": [
      "/home/lclan/spinningup/data/Walker2d-v3_sac_base_train/Walker2d-v3_sac_base_train_s1027/pyt_save/model.pt\n",
      "/home/lclan/spinningup/data/Walker2d-v3_sac_base_train/Walker2d-v3_sac_base_train_s1039/pyt_save/model.pt\n",
      "/home/lclan/spinningup/data/Walker2d-v3_sac_base_train/Walker2d-v3_sac_base_train_s1038/pyt_save/model.pt\n",
      "/home/lclan/spinningup/data/Walker2d-v3_sac_base_train/Walker2d-v3_sac_base_train_s1025/pyt_save/model.pt\n",
      "/home/lclan/spinningup/data/Walker2d-v3_sac_base_train/Walker2d-v3_sac_base_train_s1029/pyt_save/model.pt\n",
      "/home/lclan/spinningup/data/Walker2d-v3_sac_base_train/Walker2d-v3_sac_base_train_s1035/pyt_save/model.pt\n",
      "/home/lclan/spinningup/data/Walker2d-v3_sac_base_train/Walker2d-v3_sac_base_train_s1024/pyt_save/model.pt\n",
      "/home/lclan/spinningup/data/Walker2d-v3_sac_base_train/Walker2d-v3_sac_base_train_s1028/pyt_save/model.pt\n",
      "/home/lclan/spinningup/data/Walker2d-v3_sac_base_train/Walker2d-v3_sac_base_train_s1033/pyt_save/model.pt\n",
      "/home/lclan/spinningup/data/Walker2d-v3_sac_base_train/Walker2d-v3_sac_base_train_s1031/pyt_save/model.pt\n",
      "/home/lclan/spinningup/data/Walker2d-v3_sac_base_train/Walker2d-v3_sac_base_train_s1030/pyt_save/model.pt\n",
      "/home/lclan/spinningup/data/Walker2d-v3_sac_base_train/Walker2d-v3_sac_base_train_s1032/pyt_save/model.pt\n",
      "/home/lclan/spinningup/data/Walker2d-v3_sac_base_train/Walker2d-v3_sac_base_train_s1036/pyt_save/model.pt\n",
      "/home/lclan/spinningup/data/Walker2d-v3_sac_base_train/Walker2d-v3_sac_base_train_s1037/pyt_save/model.pt\n",
      "/home/lclan/spinningup/data/Walker2d-v3_sac_base_train/Walker2d-v3_sac_base_train_s1026/pyt_save/model.pt\n",
      "/home/lclan/spinningup/data/Walker2d-v3_sac_base_train/Walker2d-v3_sac_base_train_s1034/pyt_save/model.pt\n"
     ]
    },
    {
     "name": "stderr",
     "output_type": "stream",
     "text": [
      "/home/lclan/anaconda3/envs/rob_sac/lib/python3.7/site-packages/gym/logger.py:30: UserWarning: \u001b[33mWARN: Box bound precision lowered by casting to float32\u001b[0m\n",
      "  warnings.warn(colorize('%s: %s'%('WARN', msg % args), 'yellow'))\n"
     ]
    }
   ],
   "source": [
    "def test_continue_problem(path, env_name, name, traj_num=10, extra_step=50):\n",
    "    models = get_all_models(path, env_name, name)\n",
    "    # good_trajs = []\n",
    "    traj_rs = []\n",
    "    env = gym.make(env_name)\n",
    "    step_nums = [400, 411, 434, 471, 489]\n",
    "    dr = []\n",
    "    for i in range(len(models)):\n",
    "        dr.append([])\n",
    "        model = models[i]\n",
    "        rs, gts = get_good_trajs(env, model, traj_num)\n",
    "        print(vmean(rs))\n",
    "        traj_rs.append(vmean(rs))\n",
    "        for j in range(len(models)):\n",
    "            m =  models[j]\n",
    "            dr[i].append([])\n",
    "            for t in gts:\n",
    "                for step_num in step_nums:\n",
    "                    old_state = t[step_num-1]\n",
    "                    o = restore_state(env, old_state)\n",
    "                    o_copy = deepcopy(o)\n",
    "                    dd, rr = run_extra_steps(env, o, step_num, m, 1000, extra_step)\n",
    "                    if rr < extra_step:\n",
    "                        dd = True\n",
    "                    ai = get_action(o, model)\n",
    "                    aj = get_action(o, m)\n",
    "                    qii = get_q(o_copy, ai, model)\n",
    "                    qij = get_q(o_copy, ai, m)\n",
    "                    qji = get_q(o_copy, aj, model)\n",
    "                    qjj = get_q(o_copy, aj, m)\n",
    "                    dr[i][j].append((dd, rr, qii, qij, qji, qjj))\n",
    "    return dr\n",
    "path = '/home/lclan/spinningup/data/'\n",
    "dr = test_continue_problem(path, 'Walker2d-v3', 'Walker2d-v3_sac_base_train')"
   ]
  },
  {
   "cell_type": "code",
   "execution_count": 11,
   "metadata": {},
   "outputs": [
    {
     "name": "stdout",
     "output_type": "stream",
     "text": [
      "(False, 244.935667851729, tensor(543.2841, grad_fn=<MinBackward2>), tensor(474.7729, grad_fn=<MinBackward2>), tensor(541.2099, grad_fn=<MinBackward2>), tensor(475.2404, grad_fn=<MinBackward2>))\n"
     ]
    }
   ],
   "source": [
    "print(dr[0][1][0])"
   ]
  },
  {
   "cell_type": "code",
   "execution_count": 14,
   "metadata": {},
   "outputs": [],
   "source": [
    "bl = []\n",
    "gl = []\n",
    "sr = []\n",
    "\n",
    "for i in range(len(dr)):\n",
    "    for j in range(len(dr[i])):\n",
    "        if i == j:\n",
    "            for k in range(len(dr[i][j])):\n",
    "                data = dr[i][j][k]\n",
    "                new_data = (data[1], data[2].detach().numpy())\n",
    "                sr.append(new_data)\n",
    "        else:\n",
    "            for k in range(len(dr[i][j])):\n",
    "                data = dr[i][j][k]\n",
    "                new_data = (data[1], data[2].detach().numpy(), data[3].detach().numpy(), data[4].detach().numpy(),data[5].detach().numpy())\n",
    "                if data[0]: # dd\n",
    "                    bl.append(new_data)\n",
    "                else:\n",
    "                    gl.append(new_data)\n",
    "\n",
    "\n",
    "            "
   ]
  },
  {
   "cell_type": "code",
   "execution_count": 23,
   "metadata": {},
   "outputs": [
    {
     "name": "stdout",
     "output_type": "stream",
     "text": [
      "991\n",
      "11009\n"
     ]
    }
   ],
   "source": [
    "print(len(bl))\n",
    "print(len(gl))\n"
   ]
  },
  {
   "cell_type": "code",
   "execution_count": 25,
   "metadata": {},
   "outputs": [
    {
     "name": "stdout",
     "output_type": "stream",
     "text": [
      "206.96069867325212\n",
      "278.6892011182355\n",
      "290.4217206064811\n"
     ]
    }
   ],
   "source": [
    "print(vmean([x[0] for x in bl]))\n",
    "print(vmean([x[0] for x in gl]))\n",
    "print(vmean([x[0] for x in sr]))"
   ]
  },
  {
   "cell_type": "code",
   "execution_count": 26,
   "metadata": {},
   "outputs": [
    {
     "name": "stdout",
     "output_type": "stream",
     "text": [
      "344.93449778875356 531.9447401491352 254.94896769210862 527.9247554775203 269.8382647155392\n",
      "464.4820018637258 540.563596429027 420.722683522452 537.628123795264 429.4876857716507\n"
     ]
    }
   ],
   "source": [
    "# q11\n",
    "def print_q(l):\n",
    "    r  = vmean([x[0] for x in l])\n",
    "    qii = vmean([x[1] for x in l])\n",
    "    qij = vmean([x[2] for x in l])\n",
    "    qji = vmean([x[3] for x in l])\n",
    "    qjj = vmean([x[4] for x in l])\n",
    "    print(r/0.60, qii, qij, qji, qjj)\n",
    "\n",
    "print_q(bl)\n",
    "print_q(gl)\n"
   ]
  },
  {
   "cell_type": "code",
   "execution_count": 29,
   "metadata": {},
   "outputs": [
    {
     "name": "stdout",
     "output_type": "stream",
     "text": [
      "/home/lclan/spinningup/data/Walker2d-v3_sac_base_train/Walker2d-v3_sac_base_train_s1027/pyt_save/model.pt\n",
      "/home/lclan/spinningup/data/Walker2d-v3_sac_base_train/Walker2d-v3_sac_base_train_s1039/pyt_save/model.pt\n",
      "/home/lclan/spinningup/data/Walker2d-v3_sac_base_train/Walker2d-v3_sac_base_train_s1038/pyt_save/model.pt\n",
      "/home/lclan/spinningup/data/Walker2d-v3_sac_base_train/Walker2d-v3_sac_base_train_s1025/pyt_save/model.pt\n",
      "/home/lclan/spinningup/data/Walker2d-v3_sac_base_train/Walker2d-v3_sac_base_train_s1029/pyt_save/model.pt\n",
      "/home/lclan/spinningup/data/Walker2d-v3_sac_base_train/Walker2d-v3_sac_base_train_s1035/pyt_save/model.pt\n",
      "/home/lclan/spinningup/data/Walker2d-v3_sac_base_train/Walker2d-v3_sac_base_train_s1024/pyt_save/model.pt\n",
      "/home/lclan/spinningup/data/Walker2d-v3_sac_base_train/Walker2d-v3_sac_base_train_s1028/pyt_save/model.pt\n",
      "/home/lclan/spinningup/data/Walker2d-v3_sac_base_train/Walker2d-v3_sac_base_train_s1033/pyt_save/model.pt\n",
      "/home/lclan/spinningup/data/Walker2d-v3_sac_base_train/Walker2d-v3_sac_base_train_s1031/pyt_save/model.pt\n",
      "/home/lclan/spinningup/data/Walker2d-v3_sac_base_train/Walker2d-v3_sac_base_train_s1030/pyt_save/model.pt\n",
      "/home/lclan/spinningup/data/Walker2d-v3_sac_base_train/Walker2d-v3_sac_base_train_s1032/pyt_save/model.pt\n",
      "/home/lclan/spinningup/data/Walker2d-v3_sac_base_train/Walker2d-v3_sac_base_train_s1036/pyt_save/model.pt\n",
      "/home/lclan/spinningup/data/Walker2d-v3_sac_base_train/Walker2d-v3_sac_base_train_s1037/pyt_save/model.pt\n",
      "/home/lclan/spinningup/data/Walker2d-v3_sac_base_train/Walker2d-v3_sac_base_train_s1026/pyt_save/model.pt\n",
      "/home/lclan/spinningup/data/Walker2d-v3_sac_base_train/Walker2d-v3_sac_base_train_s1034/pyt_save/model.pt\n"
     ]
    }
   ],
   "source": [
    "dr2 = test_continue_problem(path, 'Walker2d-v3', 'Walker2d-v3_sac_base_train', traj_num=25, extra_step=500)"
   ]
  },
  {
   "cell_type": "code",
   "execution_count": 35,
   "metadata": {},
   "outputs": [
    {
     "name": "stdout",
     "output_type": "stream",
     "text": [
      "413.8019294121779 2812.457616390589 2916.3987976251274\n",
      "82.76038588243559 536.9886038385087 309.2519179372655 532.9022700915225 321.14817003011296\n",
      "562.4915232781178 540.810352622627 430.3992054421882 538.0670599827062 438.85772712666056\n",
      "583.2797595250255 540.0595063781739\n"
     ]
    }
   ],
   "source": [
    "def get_ls(dr):\n",
    "    bl = []\n",
    "    gl = []\n",
    "    sr = []\n",
    "    for i in range(len(dr)):\n",
    "        for j in range(len(dr[i])):\n",
    "            if i == j:\n",
    "                for k in range(len(dr[i][j])):\n",
    "                    data = dr[i][j][k]\n",
    "                    new_data = (data[1], data[2].detach().numpy())\n",
    "                    sr.append(new_data)\n",
    "            else:\n",
    "                for k in range(len(dr[i][j])):\n",
    "                    data = dr[i][j][k]\n",
    "                    new_data = (data[1], data[2].detach().numpy(), data[3].detach().numpy(), data[4].detach().numpy(),data[5].detach().numpy())\n",
    "                    if data[0]: # dd\n",
    "                        bl.append(new_data)\n",
    "                    else:\n",
    "                        gl.append(new_data)\n",
    "    return bl, gl, sr\n",
    "\n",
    "def print_q(l):\n",
    "    r  = vmean([x[0] for x in l])\n",
    "    qii = vmean([x[1] for x in l])\n",
    "    qij = vmean([x[2] for x in l])\n",
    "    qji = vmean([x[3] for x in l])\n",
    "    qjj = vmean([x[4] for x in l])\n",
    "    print(r/5, qii, qij, qji, qjj)\n",
    "    \n",
    "\n",
    "bl2, gl2, sr2 = get_ls(dr2)\n",
    "print(vmean([x[0] for x in bl2]), vmean([x[0] for x in gl2]), vmean([x[0] for x in sr2]))\n",
    "print_q(bl2)\n",
    "print_q(gl2)\n",
    "print(vmean([x[0] for x in sr2])/5, vmean([x[1] for x in sr2]))"
   ]
  },
  {
   "cell_type": "code",
   "execution_count": 36,
   "metadata": {},
   "outputs": [
    {
     "name": "stderr",
     "output_type": "stream",
     "text": [
      "/home/lclan/anaconda3/envs/rob_sac/lib/python3.7/site-packages/gym/logger.py:30: UserWarning: \u001b[33mWARN: Box bound precision lowered by casting to float32\u001b[0m\n",
      "  warnings.warn(colorize('%s: %s'%('WARN', msg % args), 'yellow'))\n"
     ]
    },
    {
     "name": "stdout",
     "output_type": "stream",
     "text": [
      "/home/lclan/spinningup/data/Humanoid-v3_sac_base_train/Humanoid-v3_sac_base_train_s1034/pyt_save/model.pt\n",
      "/home/lclan/spinningup/data/Humanoid-v3_sac_base_train/Humanoid-v3_sac_base_train_s1033/pyt_save/model.pt\n",
      "/home/lclan/spinningup/data/Humanoid-v3_sac_base_train/Humanoid-v3_sac_base_train_s1027/pyt_save/model.pt\n",
      "/home/lclan/spinningup/data/Humanoid-v3_sac_base_train/Humanoid-v3_sac_base_train_s1025/pyt_save/model.pt\n",
      "/home/lclan/spinningup/data/Humanoid-v3_sac_base_train/Humanoid-v3_sac_base_train_s1026/pyt_save/model.pt\n",
      "/home/lclan/spinningup/data/Humanoid-v3_sac_base_train/Humanoid-v3_sac_base_train_s1038/pyt_save/model.pt\n",
      "/home/lclan/spinningup/data/Humanoid-v3_sac_base_train/Humanoid-v3_sac_base_train_s1035/pyt_save/model.pt\n",
      "/home/lclan/spinningup/data/Humanoid-v3_sac_base_train/Humanoid-v3_sac_base_train_s1028/pyt_save/model.pt\n",
      "/home/lclan/spinningup/data/Humanoid-v3_sac_base_train/Humanoid-v3_sac_base_train_s1024/pyt_save/model.pt\n",
      "/home/lclan/spinningup/data/Humanoid-v3_sac_base_train/Humanoid-v3_sac_base_train_s1032/pyt_save/model.pt\n",
      "/home/lclan/spinningup/data/Humanoid-v3_sac_base_train/Humanoid-v3_sac_base_train_s1029/pyt_save/model.pt\n",
      "/home/lclan/spinningup/data/Humanoid-v3_sac_base_train/Humanoid-v3_sac_base_train_s1036/pyt_save/model.pt\n",
      "/home/lclan/spinningup/data/Humanoid-v3_sac_base_train/Humanoid-v3_sac_base_train_s1039/pyt_save/model.pt\n",
      "/home/lclan/spinningup/data/Humanoid-v3_sac_base_train/Humanoid-v3_sac_base_train_s1037/pyt_save/model.pt\n",
      "/home/lclan/spinningup/data/Humanoid-v3_sac_base_train/Humanoid-v3_sac_base_train_s1031/pyt_save/model.pt\n",
      "/home/lclan/spinningup/data/Humanoid-v3_sac_base_train/Humanoid-v3_sac_base_train_s1030/pyt_save/model.pt\n"
     ]
    }
   ],
   "source": [
    "drhu = test_continue_problem(path, 'Humanoid-v3', 'Humanoid-v3_sac_base_train', traj_num=25, extra_step=500)"
   ]
  },
  {
   "cell_type": "code",
   "execution_count": 37,
   "metadata": {},
   "outputs": [
    {
     "name": "stdout",
     "output_type": "stream",
     "text": [
      "468.7371753655101 2703.787088179632 2670.918894147001\n",
      "93.74743507310203 582.1391768640017 137.34757094063087 578.7608656608966 155.920021008009\n",
      "540.7574176359265 586.8838165634846 299.21471700072 584.5455050471711 326.4585476590062\n",
      "534.1837788294002 585.3715417366028\n"
     ]
    }
   ],
   "source": [
    "blhu, glhu, srhu = get_ls(drhu)\n",
    "print(vmean([x[0] for x in blhu]), vmean([x[0] for x in glhu]), vmean([x[0] for x in srhu]))\n",
    "print_q(blhu)\n",
    "print_q(glhu)\n",
    "print(vmean([x[0] for x in srhu])/5, vmean([x[1] for x in srhu]))"
   ]
  },
  {
   "cell_type": "code",
   "execution_count": 43,
   "metadata": {},
   "outputs": [
    {
     "name": "stdout",
     "output_type": "stream",
     "text": [
      "16 125\n",
      "fail num:  0\n",
      "12.70 26.75 18.25 11.35 6.55 5.10 5.10 5.95 3.50 2.55 1.75 0.40 0.05 0.00 0.00 0.00\n",
      "12.70 39.45 57.70 69.05 75.60 80.70 85.80 91.75 95.25 97.80 99.55 99.95 100.00 100.00 100.00 100.00\n",
      "16 125\n",
      "fail num:  69\n",
      "2.33 6.73 11.39 15.07 15.43 13.88 10.77 8.29 6.01 4.19 2.69 1.81 1.04 0.36 0.00 0.00\n",
      "2.33 9.06 20.46 35.53 50.96 64.84 75.61 83.89 89.90 94.10 96.79 98.60 99.64 100.00 100.00 100.00\n"
     ]
    },
    {
     "data": {
      "text/plain": [
       "[2.330398757120663,\n",
       " 6.732263076126359,\n",
       " 11.393060590367684,\n",
       " 15.06991196271362,\n",
       " 15.432418436043502,\n",
       " 13.878819264629724,\n",
       " 10.771620921802175,\n",
       " 8.285862247540136,\n",
       " 6.007250129466598,\n",
       " 4.194717762817193,\n",
       " 2.6929052304505436,\n",
       " 1.8125323666494046,\n",
       " 1.035732780942517,\n",
       " 0.3625064733298809,\n",
       " 0.0,\n",
       " 0.0]"
      ]
     },
     "execution_count": 43,
     "metadata": {},
     "output_type": "execute_result"
    }
   ],
   "source": [
    "def get_distribution(dr):\n",
    "    model_num = len(dr)\n",
    "    points_count = len(dr[0][0])\n",
    "    print(model_num, points_count)\n",
    "    ret = [0] * model_num\n",
    "    sum = 0\n",
    "    fall = 0\n",
    "    for i in range(model_num):\n",
    "        for k in range(points_count):\n",
    "            if dr[i][i][k][0]: # hard for old \n",
    "                fall +=1\n",
    "                continue\n",
    "            cnt = 0\n",
    "            for j in range(model_num):\n",
    "                if i != j:\n",
    "                    if dr[i][j][k][0]:\n",
    "                        cnt += 1\n",
    "            ret[cnt] += 1\n",
    "            sum+=1\n",
    "    \n",
    "    ret = [x/sum*100 for x in ret]\n",
    "    print(\"fail num: \", fall)\n",
    "    print_2f(*ret)\n",
    "    acc = [ret[0]]\n",
    "    for i in range(1, model_num):\n",
    "        tmp = acc[i-1] + ret[i]\n",
    "        acc.append(tmp)\n",
    "    print_2f(*acc)\n",
    "    return ret\n",
    "\n",
    "get_distribution(dr2)\n",
    "get_distribution(drhu)"
   ]
  },
  {
   "cell_type": "code",
   "execution_count": 52,
   "metadata": {},
   "outputs": [
    {
     "name": "stdout",
     "output_type": "stream",
     "text": [
      "16 125\n",
      "fail num and rate:  0 0.19646666666666668\n",
      "0.13 0.27 0.18 0.11 0.07 0.05 0.05 0.06 0.04 0.03 0.02 0.00 0.00 0.00 0.00 0.00\n",
      "0.04 0.14 0.24 0.25 0.18 0.10 0.04 0.01 0.00 0.00 0.00 0.00 0.00 0.00 0.00 0.00\n"
     ]
    },
    {
     "data": {
      "image/png": "[encoded data removed]",
      "text/plain": [
       "<Figure size 432x288 with 1 Axes>"
      ]
     },
     "metadata": {
      "needs_background": "light"
     },
     "output_type": "display_data"
    }
   ],
   "source": [
    "import matplotlib.pyplot as plt\n",
    "from scipy.stats import binom\n",
    "def print_distribution(dr):\n",
    "    model_num = len(dr)\n",
    "    points_count = len(dr[0][0])\n",
    "    print(model_num, points_count)\n",
    "    ret = [0] * model_num\n",
    "    sum = 0\n",
    "    fall = 0\n",
    "    data_num = 0\n",
    "    data_d_num = 0\n",
    "    for i in range(model_num):\n",
    "        for k in range(points_count):\n",
    "            if dr[i][i][k][0]: # hard for old \n",
    "                fall +=1\n",
    "                continue\n",
    "            \n",
    "            cnt = 0\n",
    "            for j in range(model_num):\n",
    "                if i != j:\n",
    "                    data_num += 1\n",
    "                    if dr[i][j][k][0]:\n",
    "                        cnt += 1\n",
    "                        data_d_num += 1\n",
    "            ret[cnt] += 1\n",
    "            sum+=1\n",
    "    \n",
    "    ret = [x/sum for x in ret]\n",
    "    print(\"fail num and rate: \", fall, data_d_num / data_num)\n",
    "    print_2f(*ret)\n",
    "    colors = ['blue', 'red']\n",
    "    x = range(0, model_num)\n",
    "    rv = binom(model_num-1, data_d_num / data_num)\n",
    "    rand_dis = rv.pmf(x)\n",
    "    names = ['sac', 'random']\n",
    "    print_2f(*rand_dis)\n",
    "    plt.plot(x, ret, color='blue', label='sac')\n",
    "    plt.plot(x, rand_dis, color='red', label='random')\n",
    "    plt.legend()\n",
    "    plt.xlabel('fail number')\n",
    "    plt.ylabel('probability')\n",
    "\n",
    "print_distribution(dr2)\n",
    "\n",
    "    "
   ]
  },
  {
   "cell_type": "code",
   "execution_count": 53,
   "metadata": {},
   "outputs": [
    {
     "name": "stdout",
     "output_type": "stream",
     "text": [
      "16 125\n",
      "fail num and rate:  69 0.3188675988261695\n",
      "0.02 0.07 0.11 0.15 0.15 0.14 0.11 0.08 0.06 0.04 0.03 0.02 0.01 0.00 0.00 0.00\n",
      "0.00 0.02 0.07 0.15 0.21 0.21 0.17 0.10 0.05 0.02 0.00 0.00 0.00 0.00 0.00 0.00\n"
     ]
    },
    {
     "data": {
      "image/png": "[encoded data removed]",
      "text/plain": [
       "<Figure size 432x288 with 1 Axes>"
      ]
     },
     "metadata": {
      "needs_background": "light"
     },
     "output_type": "display_data"
    }
   ],
   "source": [
    "print_distribution(drhu)"
   ]
  },
  {
   "cell_type": "code",
   "execution_count": 10,
   "metadata": {},
   "outputs": [
    {
     "name": "stdout",
     "output_type": "stream",
     "text": [
      "[0, 1, 2]\n"
     ]
    }
   ],
   "source": [
    "import random\n",
    "l = list(range(3))\n",
    "random.shuffle(l)\n",
    "print(l)"
   ]
  },
  {
   "cell_type": "code",
   "execution_count": null,
   "metadata": {},
   "outputs": [],
   "source": []
  }
 ],
 "metadata": {
  "interpreter": {
   "hash": "4b9173d7a47b489e1b956c4c046790932ec6a5657fcc43ffc1c0b2b0488efbe7"
  },
  "kernelspec": {
   "display_name": "Python 3.8.3 64-bit ('spinningup': venv)",
   "language": "python",
   "name": "python3"
  },
  "language_info": {
   "codemirror_mode": {
    "name": "ipython",
    "version": 3
   },
   "file_extension": ".py",
   "mimetype": "text/x-python",
   "name": "python",
   "nbconvert_exporter": "python",
   "pygments_lexer": "ipython3",
   "version": "3.7.7"
  },
  "orig_nbformat": 4
 },
 "nbformat": 4,
 "nbformat_minor": 2
}
