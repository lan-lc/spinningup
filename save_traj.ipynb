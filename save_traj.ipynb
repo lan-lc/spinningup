{
 "cells": [
  {
   "cell_type": "code",
   "execution_count": 19,
   "metadata": {},
   "outputs": [],
   "source": [
    "from ast import mod\n",
    "from turtle import mode\n",
    "import gym\n",
    "from copy import deepcopy\n",
    "import os\n",
    "import os.path as osp\n",
    "import torch\n",
    "from scipy import stats\n",
    "from statistics import mean \n",
    "import numpy as np\n",
    "from torch.optim import Adam\n",
    "import itertools\n",
    "import random\n",
    "import torch.nn as nn\n",
    "import argparse\n",
    "def print_2f(*args):\n",
    "    __builtins__.print(*(\"%.2f\" % a if isinstance(a, float) else a\n",
    "                         for a in args))\n",
    "\n",
    "def get_action(o, md, deterministic=True):\n",
    "    o = torch.as_tensor(o, dtype=torch.float32)\n",
    "    a = md.act(o)\n",
    "    return a\n",
    "\n",
    "def save_state(env):\n",
    "    return env.sim.get_state()\n",
    "\n",
    "def restore_state(env, old_state):\n",
    "    env.reset()\n",
    "    env.sim.set_state(old_state)\n",
    "    env.sim.forward()\n",
    "    return env.get_obs()\n",
    "\n",
    "# each \n",
    "def test_model(env, model, max_ep_len=None, num_episodes=20, interval = 1):\n",
    "    o, r, d, ep_ret, ep_len, n = env.reset(), 0, False, 0, 0, 0\n",
    "    total_rewards = []\n",
    "    trajs = []\n",
    "    mid_points = []\n",
    "    while n < num_episodes:\n",
    "        old_state = save_state(env)\n",
    "        mid_points.append(old_state)\n",
    "        if len(mid_points)-1 != ep_len:\n",
    "            print(\"bug:\", len(mid_points)-1, ep_len)\n",
    "        a = get_action(o, model)\n",
    "        o, r, d, _ = env.step(a)\n",
    "        ep_ret += r\n",
    "        ep_len += 1\n",
    "        if d or (ep_len == max_ep_len):\n",
    "            total_rewards.append(ep_ret)\n",
    "            trajs.append(mid_points)\n",
    "            mid_points = []\n",
    "            o, r, d, ep_ret, ep_len = env.reset(), 0, False, 0, 0\n",
    "            n += 1\n",
    "    return total_rewards, trajs\n",
    "\n",
    "def vmean(v):\n",
    "    return sum(v) / len(v)\n",
    "\n",
    "def get_good_trajs(env, model, num, max_ep_len=1000):\n",
    "    total_rewards = []\n",
    "    trajs = []\n",
    "    old_r = []\n",
    "    while len(total_rewards) < num:\n",
    "        r, t = test_model(env, model, max_ep_len, num - len(total_rewards))\n",
    "        old_r = old_r + r\n",
    "        thr = vmean(old_r)\n",
    "        for i in range(len(r)):\n",
    "            if thr <= r[i] and len(t[i])>=500:\n",
    "                total_rewards.append(r[i])\n",
    "                trajs.append(t[i])\n",
    "    return total_rewards, trajs\n",
    "\n",
    "def run_extra_steps(env, o, ep_len, md, max_ep_len, step_num = 50):\n",
    "    # return 0\n",
    "    # print(env.done)\n",
    "    total_r = 0\n",
    "    for i in range(step_num):\n",
    "        a = get_action(o, md)\n",
    "        o, r, d, _ = env.step(a)\n",
    "        total_r += r\n",
    "        ep_len += 1\n",
    "        if d or (ep_len == max_ep_len):\n",
    "            # print(i, d, r, ep_len, max_ep_len)\n",
    "            return (d, total_r)\n",
    "    return (d, total_r)\n",
    "\n",
    "def get_models(path, env_name, name):\n",
    "    env = gym.make(env_name)\n",
    "    fpath = osp.join(path, name)\n",
    "    # print(fpath)\n",
    "    models = []\n",
    "    while 1:\n",
    "        fname = osp.join(fpath, name + \"_s\" + str(len(models)) ,'pyt_save', 'model.pt')\n",
    "        print(fname)\n",
    "        if(osp.exists(fname)):\n",
    "            model = torch.load(fname)\n",
    "            models.append(model)\n",
    "        else:\n",
    "            break\n",
    "    return models"
   ]
  },
  {
   "cell_type": "code",
   "execution_count": 20,
   "metadata": {},
   "outputs": [
    {
     "name": "stdout",
     "output_type": "stream",
     "text": [
      "/home/lclan/spinningup/data/Walker2d-v3_sac_base/Walker2d-v3_sac_base_s0/pyt_save/model.pt\n",
      "/home/lclan/spinningup/data/Walker2d-v3_sac_base/Walker2d-v3_sac_base_s1/pyt_save/model.pt\n",
      "/home/lclan/spinningup/data/Walker2d-v3_sac_base/Walker2d-v3_sac_base_s2/pyt_save/model.pt\n",
      "/home/lclan/spinningup/data/Walker2d-v3_sac_base/Walker2d-v3_sac_base_s3/pyt_save/model.pt\n",
      "/home/lclan/spinningup/data/Walker2d-v3_sac_base/Walker2d-v3_sac_base_s4/pyt_save/model.pt\n",
      "4\n"
     ]
    }
   ],
   "source": [
    "path = '/home/lclan/spinningup/data/'\n",
    "env = gym.make('Walker2d-v3')\n",
    "models =  get_models(path, 'Walker2d-v3', 'Walker2d-v3_sac_base')\n",
    "print(len(models))\n"
   ]
  },
  {
   "cell_type": "code",
   "execution_count": 21,
   "metadata": {},
   "outputs": [],
   "source": [
    "r, t = get_good_trajs(env, models[0], 10)"
   ]
  },
  {
   "cell_type": "code",
   "execution_count": 24,
   "metadata": {},
   "outputs": [
    {
     "name": "stdout",
     "output_type": "stream",
     "text": [
      "MjSimState(time=0.0, qpos=array([-4.59271761e-03,  1.25157847e+00,  1.93322821e-03,  4.18327324e-03,\n",
      "        2.44796472e-04,  4.75745784e-03,  2.32210117e-03,  1.23040515e-03,\n",
      "       -1.39541179e-03]), qvel=array([ 0.00476675, -0.00357611, -0.00270208,  0.00350662,  0.00401923,\n",
      "       -0.00487908,  0.00446344, -0.00321702,  0.00463771]), act=None, udd_state={})\n"
     ]
    }
   ],
   "source": [
    "print(t[0][0])"
   ]
  },
  {
   "cell_type": "code",
   "execution_count": 27,
   "metadata": {},
   "outputs": [],
   "source": [
    "import pickle\n",
    "with open('tj.pk', 'wb') as f:\n",
    "    pickle.dump(t, f)"
   ]
  },
  {
   "cell_type": "code",
   "execution_count": 35,
   "metadata": {},
   "outputs": [],
   "source": [
    "with open('tj.pk', 'rb') as f:\n",
    "    t2 = pickle.load(f)\n"
   ]
  },
  {
   "cell_type": "code",
   "execution_count": 40,
   "metadata": {},
   "outputs": [],
   "source": [
    "with open('./data/Walker2d-v3_sac_base_trajs.pkl', 'rb') as f:\n",
    "    t2 = pickle.load(f)"
   ]
  },
  {
   "cell_type": "code",
   "execution_count": 42,
   "metadata": {},
   "outputs": [
    {
     "data": {
      "text/plain": [
       "1000"
      ]
     },
     "execution_count": 42,
     "metadata": {},
     "output_type": "execute_result"
    }
   ],
   "source": [
    "len(t2[0])"
   ]
  },
  {
   "cell_type": "code",
   "execution_count": 43,
   "metadata": {},
   "outputs": [
    {
     "name": "stdout",
     "output_type": "stream",
     "text": [
      "MjSimState(time=0.0, qpos=array([ 1.30687669e-03,  1.24915459e+00, -2.99255940e-03,  3.08362928e-03,\n",
      "        2.44562962e-03,  8.19931050e-04, -2.47122719e-03, -1.82589574e-03,\n",
      "        1.73980502e-03]), qvel=array([ 0.00100676, -0.00470481,  0.00306903, -0.00431403, -0.00309992,\n",
      "       -0.00446594, -0.00267597,  0.00185501,  0.00275699]), act=None, udd_state={})\n"
     ]
    }
   ],
   "source": [
    "print(t2[0][0])"
   ]
  },
  {
   "cell_type": "code",
   "execution_count": null,
   "metadata": {},
   "outputs": [],
   "source": []
  }
 ],
 "metadata": {
  "interpreter": {
   "hash": "4b9173d7a47b489e1b956c4c046790932ec6a5657fcc43ffc1c0b2b0488efbe7"
  },
  "kernelspec": {
   "display_name": "Python 3.8.3 64-bit ('spinningup': venv)",
   "language": "python",
   "name": "python3"
  },
  "language_info": {
   "codemirror_mode": {
    "name": "ipython",
    "version": 3
   },
   "file_extension": ".py",
   "mimetype": "text/x-python",
   "name": "python",
   "nbconvert_exporter": "python",
   "pygments_lexer": "ipython3",
   "version": "3.7.7"
  },
  "orig_nbformat": 4
 },
 "nbformat": 4,
 "nbformat_minor": 2
}
